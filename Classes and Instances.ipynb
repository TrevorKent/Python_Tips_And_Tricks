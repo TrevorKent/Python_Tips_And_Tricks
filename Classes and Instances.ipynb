{
 "cells": [
  {
   "cell_type": "raw",
   "metadata": {},
   "source": [
    "Classes and Methods"
   ]
  },
  {
   "cell_type": "code",
   "execution_count": 22,
   "metadata": {},
   "outputs": [],
   "source": [
    "class Employee:\n",
    "    \n",
    "    def __init__(self, first, last, pay):\n",
    "        self.first = first\n",
    "        self.last = last\n",
    "        self.pay = pay\n",
    "        self.email = first + '.' + last + '@company.com'\n",
    "        \n",
    "    def fullname(self):\n",
    "        return '{} {}'.format(self.first, self.last)\n",
    "        "
   ]
  },
  {
   "cell_type": "code",
   "execution_count": 29,
   "metadata": {},
   "outputs": [
    {
     "name": "stdout",
     "output_type": "stream",
     "text": [
      "Trevor Laskey\n",
      "Trevor.Laskey@company.com\n",
      "50000\n",
      "--- --- ---\n",
      "Pam Paterson\n",
      "Pam.Paterson@company.com\n",
      "60000\n"
     ]
    }
   ],
   "source": [
    "emp_1 = Employee(\"Trevor\", \"Laskey\", 50_000)\n",
    "emp_2 = Employee(\"Pam\", \"Paterson\", 60_000)\n",
    "\n",
    "print(emp_1.fullname())\n",
    "print(emp_1.email)\n",
    "print(emp_1.pay)\n",
    "print('--- --- ---')\n",
    "print(emp_2.fullname())\n",
    "print(emp_2.email)\n",
    "print(emp_2.pay)"
   ]
  },
  {
   "cell_type": "code",
   "execution_count": 33,
   "metadata": {},
   "outputs": [
    {
     "name": "stdout",
     "output_type": "stream",
     "text": [
      "Trevor Laskey\n"
     ]
    }
   ],
   "source": [
    "print(Employee.fullname(emp_1))"
   ]
  }
 ],
 "metadata": {
  "kernelspec": {
   "display_name": "Python 3",
   "language": "python",
   "name": "python3"
  },
  "language_info": {
   "codemirror_mode": {
    "name": "ipython",
    "version": 3
   },
   "file_extension": ".py",
   "mimetype": "text/x-python",
   "name": "python",
   "nbconvert_exporter": "python",
   "pygments_lexer": "ipython3",
   "version": "3.6.7"
  }
 },
 "nbformat": 4,
 "nbformat_minor": 2
}
