{
 "cells": [
  {
   "cell_type": "markdown",
   "metadata": {},
   "source": [
    "Looping for Loops"
   ]
  },
  {
   "cell_type": "code",
   "execution_count": 5,
   "metadata": {},
   "outputs": [
    {
     "name": "stdout",
     "output_type": "stream",
     "text": [
      "How many numbers? 5\n",
      "0\n",
      "1\n",
      "2\n",
      "3\n",
      "4\n",
      "Continue (y) Yes (n) No ? y\n",
      "How many numbers? 3\n",
      "5\n",
      "6\n",
      "7\n",
      "Continue (y) Yes (n) No ? n\n",
      "\n",
      "-----end---\n"
     ]
    }
   ],
   "source": [
    "# Example 1\n",
    "\n",
    "start_number = 0\n",
    "\n",
    "# Set imitial variable\n",
    "user_play = \"y\"\n",
    "\n",
    "# While loops\n",
    "while user_play == \"y\":\n",
    "\n",
    "    user_numbers = input(\"How many numbers? \")\n",
    "\n",
    "    for n in range(start_number, int(user_numbers) + start_number):\n",
    "        print(n)\n",
    "        \n",
    "    start_number = start_number + int(user_numbers)\n",
    "        \n",
    "    user_play = input(\"Continue (y) Yes (n) No ? \")\n",
    "    \n",
    "print(\"\")\n",
    "print(\"-----end---\")"
   ]
  },
  {
   "cell_type": "code",
   "execution_count": 11,
   "metadata": {},
   "outputs": [
    {
     "name": "stdout",
     "output_type": "stream",
     "text": [
      "[0] Snickers\n",
      "[1] Kit Kat\n",
      "[2] Skittles\n",
      "[3] Hershey Bar\n",
      "[4] Starbursts\n",
      "[5] M&Ms\n",
      "[6] Mounds\n",
      "Which candy would you like to bring home?1\n",
      "Which candy would you like to bring home?5\n",
      "Which candy would you like to bring home?6\n",
      "I brought home with me...\n",
      "Kit Kat\n",
      "M&Ms\n",
      "Mounds\n"
     ]
    }
   ],
   "source": [
    "# Example 2\n",
    "candyList = [\"Snickers\", \"Kit Kat\", \"Skittles\", \"Hershey Bar\", \"Starbursts\", \"M&Ms\", \"Mounds\"]\n",
    "\n",
    "allowance = 3\n",
    "\n",
    "candyCart = []\n",
    "\n",
    "for candy in candyList:\n",
    "    print(\"[\" + str(candyList.index(candy)) + \"] \" + candy)\n",
    "    \n",
    "for x in range(allowance):\n",
    "    selectedCandy = input(\"Which candy would you like to bring home?\")\n",
    "    candyCart.append(candyList[int(selectedCandy)])\n",
    "    \n",
    "print(\"I brought home with me...\")\n",
    "for candy in candyCart:\n",
    "    print(candy)"
   ]
  },
  {
   "cell_type": "code",
   "execution_count": 19,
   "metadata": {},
   "outputs": [
    {
     "name": "stdout",
     "output_type": "stream",
     "text": [
      "Welcome to the House of Pies! Here are our pies:\n",
      "---------------------------------------------order----\n",
      "(1) Pecan (2) Apple Crisp (3) Coconut (4) Blueberry (5) Cherry\n",
      "Which pie would you like?1\n",
      "------------------------------------------------------\n",
      "Great, We'll have that  Pecan ready for you!\n",
      "Would you like to make another purchase? (y)Yes (n)No y\n",
      "---------------------------------------------order----\n",
      "(1) Pecan (2) Apple Crisp (3) Coconut (4) Blueberry (5) Cherry\n",
      "Which pie would you like?4\n",
      "------------------------------------------------------\n",
      "Great, We'll have that Blueberry ready for you!\n",
      "Would you like to make another purchase? (y)Yes (n)No n\n",
      "-------------------------------------Confirmation----\n",
      "You purchased a total of 2 pies.\n"
     ]
    }
   ],
   "source": [
    "# Example 3\n",
    "\n",
    "shopping = 'y'\n",
    "\n",
    "pie_purchases = []\n",
    "\n",
    "pie_list = [\" Pecan\", \"Apple Crisp\", \" Bean\", \"Blueberry\", \"Cherry\"]\n",
    "\n",
    "print(\"Welcome to the House of Pies! Here are our pies:\")\n",
    "\n",
    "while shopping == 'y':\n",
    "    \n",
    "    print(\"---------------------------------------------order----\")\n",
    "    print(\"(1) Pecan\", \"(2) Apple Crisp\", \"(3) Coconut\", \"(4) Blueberry\", \"(5) Cherry\")\n",
    "    \n",
    "    pie_choice = input(\"Which pie would you like?\")\n",
    "    pie_purchases.append(pie_choice)\n",
    "    \n",
    "    print(\"------------------------------------------------------\")\n",
    "    print(\"Great, We'll have that \"+ pie_list[int(pie_choice) - 1] + \" ready for you!\")\n",
    "    \n",
    "    shopping = input(\"Would you like to make another purchase? (y)Yes (n)No \")\n",
    "    \n",
    "print(\"-------------------------------------Confirmation----\")\n",
    "print(\"You purchased a total of \" + str(len(pie_purchases)) + \" pies.\")"
   ]
  }
 ],
 "metadata": {
  "kernelspec": {
   "display_name": "Python 3",
   "language": "python",
   "name": "python3"
  },
  "language_info": {
   "codemirror_mode": {
    "name": "ipython",
    "version": 3
   },
   "file_extension": ".py",
   "mimetype": "text/x-python",
   "name": "python",
   "nbconvert_exporter": "python",
   "pygments_lexer": "ipython3",
   "version": "3.6.7"
  }
 },
 "nbformat": 4,
 "nbformat_minor": 2
}
