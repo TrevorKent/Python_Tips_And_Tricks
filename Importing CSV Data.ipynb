{
 "cells": [
  {
   "cell_type": "raw",
   "metadata": {},
   "source": [
    "Importing CSV Files w/ CSV Modue"
   ]
  },
  {
   "cell_type": "code",
   "execution_count": 31,
   "metadata": {},
   "outputs": [
    {
     "name": "stdout",
     "output_type": "stream",
     "text": [
      "['Dialect', 'DictReader', 'DictWriter', 'Error', 'OrderedDict', 'QUOTE_ALL', 'QUOTE_MINIMAL', 'QUOTE_NONE', 'QUOTE_NONNUMERIC', 'Sniffer', 'StringIO', '_Dialect', '__all__', '__builtins__', '__cached__', '__doc__', '__file__', '__loader__', '__name__', '__package__', '__spec__', '__version__', 'excel', 'excel_tab', 'field_size_limit', 'get_dialect', 'list_dialects', 're', 'reader', 'register_dialect', 'unix_dialect', 'unregister_dialect', 'writer']\n"
     ]
    }
   ],
   "source": [
    "# Import csv module\n",
    "import csv\n",
    "\n",
    "print(dir(csv))"
   ]
  },
  {
   "cell_type": "code",
   "execution_count": 65,
   "metadata": {},
   "outputs": [],
   "source": [
    "# Extract data\n",
    "path = \"data\\google_stock_data.csv\"\n",
    "file = open(path, newline='')\n",
    "reader = csv.reader(file)"
   ]
  },
  {
   "cell_type": "code",
   "execution_count": 66,
   "metadata": {},
   "outputs": [
    {
     "name": "stdout",
     "output_type": "stream",
     "text": [
      "['Date', 'Open', 'High', 'Low', 'Close', 'Volume', 'Adj Close']\n"
     ]
    }
   ],
   "source": [
    "# Print header and first row of data\n",
    "header = next(reader)\n",
    "print(header)\n",
    "#data = [row for row in reader]\n",
    "#print(data[0])"
   ]
  },
  {
   "cell_type": "code",
   "execution_count": 67,
   "metadata": {},
   "outputs": [
    {
     "name": "stdout",
     "output_type": "stream",
     "text": [
      "[datetime.datetime(2014, 8, 19, 0, 0), 585.002622, 587.342658, 584.002627, 586.862643, 978600, 586.862643]\n"
     ]
    }
   ],
   "source": [
    "# Covert data (currently strings) into appropraite types\n",
    "# Datetime, floats and integers\n",
    "# Requires datetime module\n",
    "\n",
    "from datetime import datetime\n",
    "\n",
    "data = []\n",
    "for row in reader:\n",
    "    date = datetime.strptime(row[0], '%m/%d/%Y')\n",
    "    open_price = float(row[1]) # Note Open is a built in function\n",
    "    high = float(row[2])\n",
    "    low = float(row[3])\n",
    "    close = float(row[4])\n",
    "    volume = int(row[5])\n",
    "    adj_close = float(row[6])\n",
    "    \n",
    "    data.append([date, open_price, high, low, close, volume, adj_close])\n",
    "    \n",
    "print(data[0])\n"
   ]
  },
  {
   "cell_type": "code",
   "execution_count": 78,
   "metadata": {},
   "outputs": [],
   "source": [
    "# Compute and store daily stock returns in new returns file\n",
    "returns_path = \"data\\google_returns.csv\"\n",
    "file = open(returns_path, 'w')\n",
    "writer = csv.writer(file)\n",
    "writer.writerow([\"Date\", \"Return\"])\n",
    "\n",
    "for i in range(len(data)-1): # Zero based indexing\n",
    "    todays_row = data[i]\n",
    "    todays_date = todays_row[0]\n",
    "    todays_price = todays_row[-1]\n",
    "    yesterdays_row = data[i+1]\n",
    "    yesterdays_price = yesterdays_row[-1]\n",
    "    \n",
    "    daily_return = (todays_price - yesterdays_price) / yesterdays_price\n",
    "    formatted_date = todays_date.strftime('%m/%d/%Y')\n",
    "    writer.writerow([todays_date, daily_return])\n",
    "    "
   ]
  }
 ],
 "metadata": {
  "kernelspec": {
   "display_name": "Python 3",
   "language": "python",
   "name": "python3"
  },
  "language_info": {
   "codemirror_mode": {
    "name": "ipython",
    "version": 3
   },
   "file_extension": ".py",
   "mimetype": "text/x-python",
   "name": "python",
   "nbconvert_exporter": "python",
   "pygments_lexer": "ipython3",
   "version": "3.6.7"
  }
 },
 "nbformat": 4,
 "nbformat_minor": 2
}
