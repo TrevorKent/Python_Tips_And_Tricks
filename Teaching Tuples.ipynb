{
 "cells": [
  {
   "cell_type": "code",
   "execution_count": 1,
   "metadata": {},
   "outputs": [],
   "source": [
    "# Tuples vs. Lists"
   ]
  },
  {
   "cell_type": "code",
   "execution_count": 2,
   "metadata": {},
   "outputs": [],
   "source": [
    "# List example\n",
    "age = [8, 9, 10, 11, 12]\n",
    "\n",
    "# Tuple example\n",
    "score = (23, 25, 22, 20, 24)"
   ]
  },
  {
   "cell_type": "code",
   "execution_count": 3,
   "metadata": {},
   "outputs": [
    {
     "name": "stdout",
     "output_type": "stream",
     "text": [
      "5\n",
      "5\n"
     ]
    }
   ],
   "source": [
    "# Display lenghts\n",
    "print(len(age))\n",
    "print(len(score))\n"
   ]
  },
  {
   "cell_type": "code",
   "execution_count": 4,
   "metadata": {},
   "outputs": [
    {
     "name": "stdout",
     "output_type": "stream",
     "text": [
      "Age:  8\n",
      "Age:  9\n",
      "Age:  10\n",
      "Age:  11\n",
      "Age:  12\n",
      "Score:  23\n",
      "Score:  25\n",
      "Score:  22\n",
      "Score:  20\n",
      "Score:  24\n"
     ]
    }
   ],
   "source": [
    "# Iterate over each data\n",
    "\n",
    "for a in age:\n",
    "    print(\"Age: \", a)\n",
    "    \n",
    "for s in score:\n",
    "    print(\"Score: \", s)"
   ]
  },
  {
   "cell_type": "code",
   "execution_count": 6,
   "metadata": {},
   "outputs": [
    {
     "name": "stdout",
     "output_type": "stream",
     "text": [
      "List Methods\n",
      "['__add__', '__class__', '__contains__', '__delattr__', '__delitem__', '__dir__', '__doc__', '__eq__', '__format__', '__ge__', '__getattribute__', '__getitem__', '__gt__', '__hash__', '__iadd__', '__imul__', '__init__', '__init_subclass__', '__iter__', '__le__', '__len__', '__lt__', '__mul__', '__ne__', '__new__', '__reduce__', '__reduce_ex__', '__repr__', '__reversed__', '__rmul__', '__setattr__', '__setitem__', '__sizeof__', '__str__', '__subclasshook__', 'append', 'clear', 'copy', 'count', 'extend', 'index', 'insert', 'pop', 'remove', 'reverse', 'sort']\n",
      "['__add__', '__class__', '__contains__', '__delattr__', '__dir__', '__doc__', '__eq__', '__format__', '__ge__', '__getattribute__', '__getitem__', '__getnewargs__', '__gt__', '__hash__', '__init__', '__init_subclass__', '__iter__', '__le__', '__len__', '__lt__', '__mod__', '__mul__', '__ne__', '__new__', '__reduce__', '__reduce_ex__', '__repr__', '__rmod__', '__rmul__', '__setattr__', '__sizeof__', '__str__', '__subclasshook__', 'capitalize', 'casefold', 'center', 'count', 'encode', 'endswith', 'expandtabs', 'find', 'format', 'format_map', 'index', 'isalnum', 'isalpha', 'isdecimal', 'isdigit', 'isidentifier', 'islower', 'isnumeric', 'isprintable', 'isspace', 'istitle', 'isupper', 'join', 'ljust', 'lower', 'lstrip', 'maketrans', 'partition', 'replace', 'rfind', 'rindex', 'rjust', 'rpartition', 'rsplit', 'rstrip', 'split', 'splitlines', 'startswith', 'strip', 'swapcase', 'title', 'translate', 'upper', 'zfill']\n",
      "Tuple Methods\n",
      "['__add__', '__class__', '__contains__', '__delattr__', '__dir__', '__doc__', '__eq__', '__format__', '__ge__', '__getattribute__', '__getitem__', '__getnewargs__', '__gt__', '__hash__', '__init__', '__init_subclass__', '__iter__', '__le__', '__len__', '__lt__', '__mul__', '__ne__', '__new__', '__reduce__', '__reduce_ex__', '__repr__', '__rmul__', '__setattr__', '__sizeof__', '__str__', '__subclasshook__', 'count', 'index']\n"
     ]
    }
   ],
   "source": [
    "print(\"List Methods\")\n",
    "print(dir(age))\n",
    "print(dir(80*\"-\"))\n",
    "print(\"Tuple Methods\")\n",
    "print(dir(score))\n",
    "\n",
    "# Notice ther are more List methods than tuple methods. \n",
    "# More methods means more memory but less functionality."
   ]
  },
  {
   "cell_type": "code",
   "execution_count": 8,
   "metadata": {},
   "outputs": [
    {
     "name": "stdout",
     "output_type": "stream",
     "text": [
      "['__displayhook__', '__doc__', '__excepthook__', '__interactivehook__', '__loader__', '__name__', '__package__', '__spec__', '__stderr__', '__stdin__', '__stdout__', '_clear_type_cache', '_current_frames', '_debugmallocstats', '_enablelegacywindowsfsencoding', '_getframe', '_git', '_home', '_xoptions', 'api_version', 'argv', 'base_exec_prefix', 'base_prefix', 'builtin_module_names', 'byteorder', 'call_tracing', 'callstats', 'copyright', 'displayhook', 'dllhandle', 'dont_write_bytecode', 'exc_info', 'excepthook', 'exec_prefix', 'executable', 'exit', 'flags', 'float_info', 'float_repr_style', 'get_asyncgen_hooks', 'get_coroutine_wrapper', 'getallocatedblocks', 'getcheckinterval', 'getdefaultencoding', 'getfilesystemencodeerrors', 'getfilesystemencoding', 'getprofile', 'getrecursionlimit', 'getrefcount', 'getsizeof', 'getswitchinterval', 'gettrace', 'getwindowsversion', 'hash_info', 'hexversion', 'implementation', 'int_info', 'intern', 'is_finalizing', 'maxsize', 'maxunicode', 'meta_path', 'modules', 'path', 'path_hooks', 'path_importer_cache', 'platform', 'prefix', 'ps1', 'ps2', 'ps3', 'set_asyncgen_hooks', 'set_coroutine_wrapper', 'setcheckinterval', 'setprofile', 'setrecursionlimit', 'setswitchinterval', 'settrace', 'stderr', 'stdin', 'stdout', 'thread_info', 'version', 'version_info', 'warnoptions', 'winver']\n",
      "Help on built-in function getsizeof in module sys:\n",
      "\n",
      "getsizeof(...)\n",
      "    getsizeof(object, default) -> int\n",
      "    \n",
      "    Return the size of object in bytes.\n",
      "\n",
      "None\n"
     ]
    }
   ],
   "source": [
    "import sys\n",
    "\n",
    "print(dir(sys))\n",
    "print(help(sys.getsizeof))"
   ]
  },
  {
   "cell_type": "code",
   "execution_count": 10,
   "metadata": {},
   "outputs": [
    {
     "name": "stdout",
     "output_type": "stream",
     "text": [
      "List size =  128\n",
      "Tuple size =  112\n"
     ]
    }
   ],
   "source": [
    "# Tuples take up less space\n",
    "\n",
    "list_eg = [1, 3, 6, 2, \"a\", \"b\", True, 3.14159]\n",
    "tuple_eg = (1, 3, 6, 2, \"a\", \"b\", True, 3.14159)\n",
    "\n",
    "print(\"List size = \", sys.getsizeof(list_eg))\n",
    "print(\"Tuple size = \", sys.getsizeof(tuple_eg))"
   ]
  },
  {
   "cell_type": "code",
   "execution_count": 11,
   "metadata": {},
   "outputs": [
    {
     "name": "stdout",
     "output_type": "stream",
     "text": [
      "List time =  0.1372377\n",
      "Tuple time =  0.035280900000000004\n"
     ]
    }
   ],
   "source": [
    "# Unlike Lists, Tuples are immutable. Meaning that they can not be changed or modified after they are created.\n",
    "# Tuples are quicker when generating large lists of numbers. See example:\n",
    "\n",
    "import timeit\n",
    "\n",
    "list_test = timeit.timeit(stmt=\"[1,2,3,4,5]\", number=1000000)\n",
    "tuple_test = timeit.timeit(stmt=\"(1,2,3,4,5)\", number=1000000)\n",
    "print(\"List time = \", list_test)\n",
    "print(\"Tuple time = \", tuple_test)"
   ]
  },
  {
   "cell_type": "code",
   "execution_count": 13,
   "metadata": {},
   "outputs": [
    {
     "name": "stdout",
     "output_type": "stream",
     "text": [
      "()\n",
      "a\n",
      "('a', 'b')\n",
      "('a', 'b', 'c')\n"
     ]
    }
   ],
   "source": [
    "empty_tuple = ()\n",
    "test1 = ('a')\n",
    "test2 = ('a', 'b')\n",
    "test3 = ('a','b','c')\n",
    "\n",
    "print(empty_tuple)\n",
    "print(test1)\n",
    "print(test2)\n",
    "print(test3)"
   ]
  },
  {
   "cell_type": "code",
   "execution_count": 14,
   "metadata": {},
   "outputs": [
    {
     "name": "stdout",
     "output_type": "stream",
     "text": [
      "()\n",
      "('a',)\n",
      "('a', 'b')\n",
      "('a', 'b', 'c')\n"
     ]
    }
   ],
   "source": [
    "# Everything is now a Tuple\n",
    "\n",
    "empty_tuple = ()\n",
    "test1 = ('a',)\n",
    "test2 = ('a', 'b')\n",
    "test3 = ('a','b','c')\n",
    "\n",
    "print(empty_tuple)\n",
    "print(test1)\n",
    "print(test2)\n",
    "print(test3)"
   ]
  },
  {
   "cell_type": "code",
   "execution_count": 17,
   "metadata": {},
   "outputs": [
    {
     "name": "stdout",
     "output_type": "stream",
     "text": [
      "(1,)\n",
      "(1, 2)\n",
      "(1, 2, 3)\n",
      "<class 'tuple'>\n",
      "<class 'tuple'>\n",
      "<class 'tuple'>\n"
     ]
    }
   ],
   "source": [
    "# Another way to make Tuples.\n",
    "\n",
    "test1 = 1,\n",
    "test2 = 1, 2\n",
    "test3 = 1, 2, 3\n",
    "\n",
    "print(test1)\n",
    "print(test2)\n",
    "print(test3)\n",
    "print(type(test1))\n",
    "print(type(test2))\n",
    "print(type(test3))"
   ]
  },
  {
   "cell_type": "code",
   "execution_count": 18,
   "metadata": {},
   "outputs": [
    {
     "name": "stdout",
     "output_type": "stream",
     "text": [
      "Age =  27\n",
      "Country =  Vietnam\n",
      "Knows Python? =  True\n"
     ]
    }
   ],
   "source": [
    "# Tuple assignment\n",
    "\n",
    "# (age, country, knows_python)\n",
    "survey = (27, \"Vietnam\", True)\n",
    "\n",
    "age = survey[0]\n",
    "country = survey[1]\n",
    "knows_python = survey[2]\n",
    "\n",
    "print(\"Age = \", age)\n",
    "print(\"Country = \", country)\n",
    "print(\"Knows Python? = \", knows_python)"
   ]
  },
  {
   "cell_type": "code",
   "execution_count": 19,
   "metadata": {},
   "outputs": [
    {
     "name": "stdout",
     "output_type": "stream",
     "text": [
      "Age =  21\n",
      "Country =  Swiss\n",
      "Knows Python? =  False\n"
     ]
    }
   ],
   "source": [
    "# Or...\n",
    "\n",
    "survey2 = (21, \"Swiss\", False)\n",
    "age, country, knows_python = survey2\n",
    "\n",
    "print(\"Age = \", age)\n",
    "print(\"Country = \", country)\n",
    "print(\"Knows Python? = \", knows_python)"
   ]
  },
  {
   "cell_type": "code",
   "execution_count": 20,
   "metadata": {},
   "outputs": [
    {
     "name": "stdout",
     "output_type": "stream",
     "text": [
      "1\n",
      "2\n",
      "3\n"
     ]
    }
   ],
   "source": [
    "# Hence because of tuples we can do something like this...\n",
    "\n",
    "a, b, c = 1, 2, 3\n",
    "\n",
    "print(a)\n",
    "print(b)\n",
    "print(c)"
   ]
  }
 ],
 "metadata": {
  "kernelspec": {
   "display_name": "Python 3",
   "language": "python",
   "name": "python3"
  },
  "language_info": {
   "codemirror_mode": {
    "name": "ipython",
    "version": 3
   },
   "file_extension": ".py",
   "mimetype": "text/x-python",
   "name": "python",
   "nbconvert_exporter": "python",
   "pygments_lexer": "ipython3",
   "version": "3.6.7"
  }
 },
 "nbformat": 4,
 "nbformat_minor": 2
}
