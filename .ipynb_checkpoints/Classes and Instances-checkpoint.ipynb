{
 "cells": [
  {
   "cell_type": "raw",
   "metadata": {},
   "source": [
    "Classes, Methods, Class Variables, and Class Methods"
   ]
  },
  {
   "cell_type": "code",
   "execution_count": 35,
   "metadata": {},
   "outputs": [],
   "source": [
    "class Employee:\n",
    "    \n",
    "    # Note: Can use 'Employee' in place of 'self' (Employee.first, etc.)\n",
    "    \n",
    "    num_of_emps = 0\n",
    "    raise_amount = 1.05\n",
    "    \n",
    "    def __init__(self, first, last, pay):\n",
    "        self.first = first\n",
    "        self.last = last\n",
    "        self.pay = pay\n",
    "        self.email = first + '.' + last + '@company.com'\n",
    "        \n",
    "        Employee.num_of_emps +=1\n",
    "        \n",
    "    def fullname(self):\n",
    "        return '{} {}'.format(self.first, self.last)\n",
    "    \n",
    "    def apply_raise(self):\n",
    "        self.pay = int(self.pay * self.raise_amount)\n",
    "        "
   ]
  },
  {
   "cell_type": "code",
   "execution_count": 38,
   "metadata": {},
   "outputs": [
    {
     "name": "stdout",
     "output_type": "stream",
     "text": [
      "\n",
      "Trevor Laskey\n",
      "Trevor.Laskey@company.com\n",
      "50000\n",
      "Raise = 1.25 %\n",
      "62500\n",
      "\n",
      "Pam Paterson\n",
      "Pam.Paterson@company.com\n",
      "60000\n",
      "Raise = 1.05 %\n",
      "63000\n",
      "\n",
      "# Employees = 6\n"
     ]
    }
   ],
   "source": [
    "emp_1 = Employee(\"Trevor\", \"Laskey\", 50_000)\n",
    "emp_2 = Employee(\"Pam\", \"Paterson\", 60_000)\n",
    "\n",
    "# Apply different raise amount to Employee_1\n",
    "emp_1.raise_amount = 1.25\n",
    "\n",
    "print('')\n",
    "print(emp_1.fullname())\n",
    "print(emp_1.email)\n",
    "print(emp_1.pay)\n",
    "emp_1.apply_raise()\n",
    "print(f'Raise = {emp_1.raise_amount} %')\n",
    "print(emp_1.pay)\n",
    "\n",
    "print('')\n",
    "print(emp_2.fullname())\n",
    "print(emp_2.email)\n",
    "print(emp_2.pay)\n",
    "emp_2.apply_raise()\n",
    "print(f'Raise = {emp_2.raise_amount} %')\n",
    "print(emp_2.pay)\n",
    "\n",
    "print('')\n",
    "print(f'# Employees = {Employee.num_of_emps}')"
   ]
  },
  {
   "cell_type": "code",
   "execution_count": 3,
   "metadata": {},
   "outputs": [
    {
     "name": "stdout",
     "output_type": "stream",
     "text": [
      "Trevor Laskey\n"
     ]
    }
   ],
   "source": [
    "print(Employee.fullname(emp_1))"
   ]
  },
  {
   "cell_type": "raw",
   "metadata": {},
   "source": [
    "Class Variables"
   ]
  },
  {
   "cell_type": "code",
   "execution_count": null,
   "metadata": {},
   "outputs": [],
   "source": []
  }
 ],
 "metadata": {
  "kernelspec": {
   "display_name": "Python 3",
   "language": "python",
   "name": "python3"
  },
  "language_info": {
   "codemirror_mode": {
    "name": "ipython",
    "version": 3
   },
   "file_extension": ".py",
   "mimetype": "text/x-python",
   "name": "python",
   "nbconvert_exporter": "python",
   "pygments_lexer": "ipython3",
   "version": "3.6.7"
  }
 },
 "nbformat": 4,
 "nbformat_minor": 2
}
