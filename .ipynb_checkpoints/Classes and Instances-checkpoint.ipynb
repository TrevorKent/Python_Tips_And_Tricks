{
 "cells": [
  {
   "cell_type": "raw",
   "metadata": {},
   "source": [
    "Classes, Methods, Class Variables, and Class Methods"
   ]
  },
  {
   "cell_type": "code",
   "execution_count": 2,
   "metadata": {},
   "outputs": [],
   "source": [
    "class Employee:\n",
    "    \n",
    "    # Note: Can use 'Employee' in place of 'self' (Employee.first, etc.)\n",
    "    \n",
    "    num_of_emps = 0\n",
    "    \n",
    "    def __init__(self, first, last, pay):\n",
    "        self.first = first\n",
    "        self.last = last\n",
    "        self.pay = pay\n",
    "        self.email = first + '.' + last + '@company.com'\n",
    "        \n",
    "        Employee.num_of_emps +=1\n",
    "        \n",
    "    def fullname(self):\n",
    "        return '{} {}'.format(self.first, self.last)\n",
    "    \n",
    "    def apply_raise(self):\n",
    "        self.pay = int(self.pay * self.raise_amount)\n",
    "        \n",
    "    # Adding a classmethod...\n",
    "    \n",
    "    @classmethod \n",
    "    # This is a declarator, cant use 'class' so we use 'cls'\n",
    "    # We do this so that we can change the entire class, not just one instance at a time\n",
    "    def set_raise_amt(cls, amount):\n",
    "        cls.raise_amt = amount\n",
    "        "
   ]
  },
  {
   "cell_type": "code",
   "execution_count": 4,
   "metadata": {},
   "outputs": [
    {
     "ename": "AttributeError",
     "evalue": "type object 'Employee' has no attribute 'set_raise_amount'",
     "output_type": "error",
     "traceback": [
      "\u001b[1;31m---------------------------------------------------------------------------\u001b[0m",
      "\u001b[1;31mAttributeError\u001b[0m                            Traceback (most recent call last)",
      "\u001b[1;32m<ipython-input-4-8dbee62a8db9>\u001b[0m in \u001b[0;36m<module>\u001b[1;34m\u001b[0m\n\u001b[0;32m      2\u001b[0m \u001b[0memp_2\u001b[0m \u001b[1;33m=\u001b[0m \u001b[0mEmployee\u001b[0m\u001b[1;33m(\u001b[0m\u001b[1;34m\"Pam\"\u001b[0m\u001b[1;33m,\u001b[0m \u001b[1;34m\"Paterson\"\u001b[0m\u001b[1;33m,\u001b[0m \u001b[1;36m60_000\u001b[0m\u001b[1;33m)\u001b[0m\u001b[1;33m\u001b[0m\u001b[1;33m\u001b[0m\u001b[0m\n\u001b[0;32m      3\u001b[0m \u001b[1;33m\u001b[0m\u001b[0m\n\u001b[1;32m----> 4\u001b[1;33m \u001b[0mEmployee\u001b[0m\u001b[1;33m.\u001b[0m\u001b[0mset_raise_amount\u001b[0m\u001b[1;33m(\u001b[0m\u001b[1;36m1.15\u001b[0m\u001b[1;33m)\u001b[0m\u001b[1;33m\u001b[0m\u001b[1;33m\u001b[0m\u001b[0m\n\u001b[0m\u001b[0;32m      5\u001b[0m \u001b[1;33m\u001b[0m\u001b[0m\n\u001b[0;32m      6\u001b[0m \u001b[1;31m# Apply different raise amount to Employee_1\u001b[0m\u001b[1;33m\u001b[0m\u001b[1;33m\u001b[0m\u001b[1;33m\u001b[0m\u001b[0m\n",
      "\u001b[1;31mAttributeError\u001b[0m: type object 'Employee' has no attribute 'set_raise_amount'"
     ]
    }
   ],
   "source": [
    "emp_1 = Employee(\"Trevor\", \"Laskey\", 50_000)\n",
    "emp_2 = Employee(\"Pam\", \"Paterson\", 60_000)\n",
    "\n",
    "Employee.set_raise_amount(1.15)\n",
    "\n",
    "# Apply different raise amount to Employee_1\n",
    "emp_1.raise_amount = 1.25\n",
    "\n",
    "print('')\n",
    "print(emp_1.fullname())\n",
    "print(emp_1.email)\n",
    "print(emp_1.pay)\n",
    "emp_1.apply_raise()\n",
    "print(f'Raise = {emp_1.raise_amount} %')\n",
    "print(emp_1.pay)\n",
    "\n",
    "print('')\n",
    "print(emp_2.fullname())\n",
    "print(emp_2.email)\n",
    "print(emp_2.pay)\n",
    "emp_2.apply_raise()\n",
    "print(f'Raise = {emp_2.raise_amount} %')\n",
    "print(emp_2.pay)\n",
    "\n",
    "print('')\n",
    "print(f'# Employees = {Employee.num_of_emps}')"
   ]
  },
  {
   "cell_type": "code",
   "execution_count": 3,
   "metadata": {},
   "outputs": [
    {
     "name": "stdout",
     "output_type": "stream",
     "text": [
      "Trevor Laskey\n"
     ]
    }
   ],
   "source": [
    "print(Employee.fullname(emp_1))"
   ]
  },
  {
   "cell_type": "raw",
   "metadata": {},
   "source": [
    "Another Example of Class (Socrata)"
   ]
  },
  {
   "cell_type": "code",
   "execution_count": 10,
   "metadata": {},
   "outputs": [
    {
     "name": "stdout",
     "output_type": "stream",
     "text": [
      "<__main__.User object at 0x000002084FA56198>\n",
      "Dave\n",
      "Bowman\n",
      "Dave Bowman\n"
     ]
    }
   ],
   "source": [
    "class User:\n",
    "    pass\n",
    "\n",
    "user1 = User()\n",
    "user1.first_name = \"Dave\"\n",
    "user1.last_name = \"Bowman\"\n",
    "\n",
    "print(user1) # The Object\n",
    "print(user1.first_name) # The Instance\n",
    "print(user1.last_name)\n",
    "print(user1.first_name, user1.last_name)"
   ]
  },
  {
   "cell_type": "code",
   "execution_count": 14,
   "metadata": {},
   "outputs": [
    {
     "name": "stdout",
     "output_type": "stream",
     "text": [
      "Trevor Laskey\n",
      "19650908\n"
     ]
    }
   ],
   "source": [
    "# init method\n",
    "\n",
    "class User:\n",
    "    def __init__(self, full_name, birthday):\n",
    "        self.name = full_name\n",
    "        self.birthday = birthday # yyyymmdd\n",
    "        \n",
    "user = User(\"Trevor Laskey\", \"19650908\")\n",
    "print(user.name)\n",
    "print(user.birthday)"
   ]
  },
  {
   "cell_type": "code",
   "execution_count": 26,
   "metadata": {},
   "outputs": [
    {
     "name": "stdout",
     "output_type": "stream",
     "text": [
      "Trevor Laskey\n",
      "Trevor\n",
      "Laskey\n",
      "19650908\n",
      "54\n",
      "Help on User in module __main__ object:\n",
      "\n",
      "class User(builtins.object)\n",
      " |  A memeber of Friendface. For now we are only \n",
      " |  storing their name and birthday. But soon we will \n",
      " |  store an uncomfortable amount of information.\n",
      " |  \n",
      " |  Methods defined here:\n",
      " |  \n",
      " |  __init__(self, full_name, birthday)\n",
      " |      Initialize self.  See help(type(self)) for accurate signature.\n",
      " |  \n",
      " |  age(self)\n",
      " |      Return the age of the user in years.\n",
      " |  \n",
      " |  ----------------------------------------------------------------------\n",
      " |  Data descriptors defined here:\n",
      " |  \n",
      " |  __dict__\n",
      " |      dictionary for instance variables (if defined)\n",
      " |  \n",
      " |  __weakref__\n",
      " |      list of weak references to the object (if defined)\n",
      "\n"
     ]
    }
   ],
   "source": [
    "import datetime\n",
    "\n",
    "class User:\n",
    "    \n",
    "    # Docstring\n",
    "    '''A memeber of Friendface. For now we are only \n",
    "    storing their name and birthday. But soon we will \n",
    "    store an uncomfortable amount of information.'''\n",
    "    \n",
    "    def __init__(self, full_name, birthday):\n",
    "        self.name = full_name\n",
    "        self.birthday = birthday # yyyymmdd\n",
    "        \n",
    "        # Extract first and last names\n",
    "        name_pieces = full_name.split(\" \")\n",
    "        self.first_name = name_pieces[0]\n",
    "        self.last_name = name_pieces[-1]\n",
    "        \n",
    "    \n",
    "    # Adding method\n",
    "    def age(self):\n",
    "        ''' Return the age of the user in years.'''\n",
    "        today = datetime.date(2020, 1, 6)\n",
    "        yyyy = int(self.birthday[0:4])\n",
    "        mm = int(self.birthday[4:6])\n",
    "        dd = int(self.birthday[6:8])\n",
    "        dob = datetime.date(yyyy, mm, dd) # Date of Birth\n",
    "        age_in_days = (today - dob).days\n",
    "        age_in_years = age_in_days / 365\n",
    "        return int(age_in_years)\n",
    "        \n",
    "user = User(\"Trevor Laskey\", \"19650908\")\n",
    "print(user.name)\n",
    "print(user.first_name)\n",
    "print(user.last_name)\n",
    "print(user.birthday)\n",
    "print(user.age())\n",
    "\n",
    "help(user)\n"
   ]
  }
 ],
 "metadata": {
  "kernelspec": {
   "display_name": "Python 3",
   "language": "python",
   "name": "python3"
  },
  "language_info": {
   "codemirror_mode": {
    "name": "ipython",
    "version": 3
   },
   "file_extension": ".py",
   "mimetype": "text/x-python",
   "name": "python",
   "nbconvert_exporter": "python",
   "pygments_lexer": "ipython3",
   "version": "3.6.7"
  }
 },
 "nbformat": 4,
 "nbformat_minor": 2
}
