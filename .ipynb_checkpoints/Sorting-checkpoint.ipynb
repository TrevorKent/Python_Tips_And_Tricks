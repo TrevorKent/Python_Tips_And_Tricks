{
 "cells": [
  {
   "cell_type": "raw",
   "metadata": {},
   "source": [
    "Sorting Tips"
   ]
  },
  {
   "cell_type": "code",
   "execution_count": 7,
   "metadata": {},
   "outputs": [
    {
     "data": {
      "text/plain": [
       "['Bullet', 'Candy', 'CoCo', 'Lady', 'Mavric', 'Rocket']"
      ]
     },
     "execution_count": 7,
     "metadata": {},
     "output_type": "execute_result"
    }
   ],
   "source": [
    "# Sorting default is alphabetical\n",
    "\n",
    "dog_names = [\"Bullet\", \"Candy\", \"Rocket\", \"Mavric\", \"CoCo\", \"Lady\"]\n",
    "dog_names.sort()\n",
    "dog_names\n"
   ]
  },
  {
   "cell_type": "code",
   "execution_count": 8,
   "metadata": {},
   "outputs": [
    {
     "data": {
      "text/plain": [
       "['Rocket', 'Mavric', 'Lady', 'CoCo', 'Candy', 'Bullet']"
      ]
     },
     "execution_count": 8,
     "metadata": {},
     "output_type": "execute_result"
    }
   ],
   "source": [
    "# Reverse sorting\n",
    "\n",
    "dog_names.sort(reverse=True)\n",
    "dog_names"
   ]
  },
  {
   "cell_type": "code",
   "execution_count": 10,
   "metadata": {},
   "outputs": [
    {
     "ename": "AttributeError",
     "evalue": "'tuple' object has no attribute 'sort'",
     "output_type": "error",
     "traceback": [
      "\u001b[1;31m---------------------------------------------------------------------------\u001b[0m",
      "\u001b[1;31mAttributeError\u001b[0m                            Traceback (most recent call last)",
      "\u001b[1;32m<ipython-input-10-8551ba098b4a>\u001b[0m in \u001b[0;36m<module>\u001b[1;34m\u001b[0m\n\u001b[0;32m      2\u001b[0m \u001b[1;33m\u001b[0m\u001b[0m\n\u001b[0;32m      3\u001b[0m \u001b[0mdog_names\u001b[0m \u001b[1;33m=\u001b[0m \u001b[1;33m(\u001b[0m\u001b[1;34m\"Bullet\"\u001b[0m\u001b[1;33m,\u001b[0m \u001b[1;34m\"Candy\"\u001b[0m\u001b[1;33m,\u001b[0m \u001b[1;34m\"Rocket\"\u001b[0m\u001b[1;33m,\u001b[0m \u001b[1;34m\"Mavric\"\u001b[0m\u001b[1;33m,\u001b[0m \u001b[1;34m\"CoCo\"\u001b[0m\u001b[1;33m,\u001b[0m \u001b[1;34m\"Lady\"\u001b[0m\u001b[1;33m)\u001b[0m\u001b[1;33m\u001b[0m\u001b[1;33m\u001b[0m\u001b[0m\n\u001b[1;32m----> 4\u001b[1;33m \u001b[0mdog_names\u001b[0m\u001b[1;33m.\u001b[0m\u001b[0msort\u001b[0m\u001b[1;33m(\u001b[0m\u001b[1;33m)\u001b[0m\u001b[1;33m\u001b[0m\u001b[1;33m\u001b[0m\u001b[0m\n\u001b[0m\u001b[0;32m      5\u001b[0m \u001b[0mdog_names\u001b[0m\u001b[1;33m\u001b[0m\u001b[1;33m\u001b[0m\u001b[0m\n",
      "\u001b[1;31mAttributeError\u001b[0m: 'tuple' object has no attribute 'sort'"
     ]
    }
   ],
   "source": [
    "# Look what happens when your try and sort a Tuple... tuples are imutable objects and can't be sorted this way\n",
    "\n",
    "dog_names = (\"Bullet\", \"Candy\", \"Rocket\", \"Mavric\", \"CoCo\", \"Lady\")\n",
    "dog_names.sort()\n",
    "dog_names"
   ]
  },
  {
   "cell_type": "code",
   "execution_count": 15,
   "metadata": {},
   "outputs": [
    {
     "data": {
      "text/plain": [
       "[('Altima', 221, 1980, 1.7),\n",
       " ('Camry', 204, 2450, 1.8),\n",
       " ('Focus', 201, 1700, 2.1),\n",
       " ('Accord', 198, 2800, 1.9),\n",
       " ('Sonata', 176, 1800, 0.9)]"
      ]
     },
     "execution_count": 15,
     "metadata": {},
     "output_type": "execute_result"
    }
   ],
   "source": [
    "# Sorting\n",
    "\n",
    "car_models = [\n",
    "            (\"Accord\", 198, 2800, 1.9),\n",
    "            (\"Camry\", 204, 2450, 1.8),\n",
    "            (\"Sonata\", 176, 1800, 0.9),\n",
    "            (\"Focus\", 201, 1700, 2.1),\n",
    "            (\"Altima\", 221, 1980, 1.7)\n",
    "            ]\n",
    "\n",
    "car_models\n",
    "\n",
    "# Use lambda function to sort by monthly payment\n",
    "monthly_payment = lambda car_models: car_models[1] # Remember Zero Indexing\n",
    "car_models.sort(key=monthly_payment, reverse=True)\n",
    "car_models"
   ]
  },
  {
   "cell_type": "code",
   "execution_count": 17,
   "metadata": {
    "scrolled": true
   },
   "outputs": [
    {
     "data": {
      "text/plain": [
       "[('Accord', 198, 2800, 1.9),\n",
       " ('Camry', 204, 2450, 1.8),\n",
       " ('Altima', 221, 1980, 1.7),\n",
       " ('Sonata', 176, 1800, 0.9),\n",
       " ('Focus', 201, 1700, 2.1)]"
      ]
     },
     "execution_count": 17,
     "metadata": {},
     "output_type": "execute_result"
    }
   ],
   "source": [
    "# Sort by down payment\n",
    "down_payment = lambda car_models: car_models[2] # Remember Zero Indexing\n",
    "car_models.sort(key=down_payment, reverse=True)\n",
    "car_models"
   ]
  },
  {
   "cell_type": "code",
   "execution_count": 25,
   "metadata": {},
   "outputs": [
    {
     "name": "stdout",
     "output_type": "stream",
     "text": [
      "['Bullet', 'Candy', 'CoCo', 'Lady', 'Mavric', 'Rocket']\n",
      "['Bullet', 'Candy', 'Rocket', 'Mavric', 'CoCo', 'Lady']\n"
     ]
    }
   ],
   "source": [
    "# Using the sorted method to create and save copy of sorted list\n",
    "\n",
    "dog_names = [\"Bullet\", \"Candy\", \"Rocket\", \"Mavric\", \"CoCo\", \"Lady\"]\n",
    "sorted_dog_names = sorted(dog_names)\n",
    "print(sorted_dog_names)\n",
    "print(dog_names)"
   ]
  },
  {
   "cell_type": "code",
   "execution_count": 24,
   "metadata": {},
   "outputs": [
    {
     "data": {
      "text/plain": [
       "[1, 2, 2, 3, 6, 6, 8, 9, 11, 15, 16]"
      ]
     },
     "execution_count": 24,
     "metadata": {},
     "output_type": "execute_result"
    }
   ],
   "source": [
    "# Sorted funtion will sort a tuple and return values as a list\n",
    "data = (2, 6, 8, 1, 6, 2, 9, 11, 16, 3, 15)\n",
    "sorted(data)"
   ]
  },
  {
   "cell_type": "code",
   "execution_count": 26,
   "metadata": {},
   "outputs": [
    {
     "data": {
      "text/plain": [
       "['P', 'a', 'a', 'a', 'd', 'e', 'n', 's']"
      ]
     },
     "execution_count": 26,
     "metadata": {},
     "output_type": "execute_result"
    }
   ],
   "source": [
    "# Look at this...\n",
    "sorted(\"Pasadena\")"
   ]
  },
  {
   "cell_type": "code",
   "execution_count": null,
   "metadata": {},
   "outputs": [],
   "source": []
  }
 ],
 "metadata": {
  "kernelspec": {
   "display_name": "Python 3",
   "language": "python",
   "name": "python3"
  },
  "language_info": {
   "codemirror_mode": {
    "name": "ipython",
    "version": 3
   },
   "file_extension": ".py",
   "mimetype": "text/x-python",
   "name": "python",
   "nbconvert_exporter": "python",
   "pygments_lexer": "ipython3",
   "version": "3.6.7"
  }
 },
 "nbformat": 4,
 "nbformat_minor": 2
}
