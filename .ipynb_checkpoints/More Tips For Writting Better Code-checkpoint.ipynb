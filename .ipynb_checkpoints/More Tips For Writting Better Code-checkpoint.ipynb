{
 "cells": [
  {
   "cell_type": "markdown",
   "metadata": {},
   "source": [
    "Python Tips & Tricks For Writting Better Code"
   ]
  },
  {
   "cell_type": "raw",
   "metadata": {},
   "source": [
    "Tip 1: Turinary Conditionals"
   ]
  },
  {
   "cell_type": "code",
   "execution_count": 100,
   "metadata": {},
   "outputs": [
    {
     "name": "stdout",
     "output_type": "stream",
     "text": [
      "1\n"
     ]
    }
   ],
   "source": [
    "# Instead of this...\n",
    "\n",
    "condition = True\n",
    "\n",
    "if condition:\n",
    "    x = 1\n",
    "else:\n",
    "    x = 0\n",
    "\n",
    "print(x)"
   ]
  },
  {
   "cell_type": "code",
   "execution_count": 2,
   "metadata": {},
   "outputs": [
    {
     "name": "stdout",
     "output_type": "stream",
     "text": [
      "1\n"
     ]
    }
   ],
   "source": [
    "# Try this...\n",
    "\n",
    "condition = True\n",
    "\n",
    "x = 1 if condition else 0\n",
    "\n",
    "print(x)"
   ]
  },
  {
   "cell_type": "raw",
   "metadata": {},
   "source": [
    "Tip 2: Numerals and Readablity"
   ]
  },
  {
   "cell_type": "code",
   "execution_count": 3,
   "metadata": {},
   "outputs": [
    {
     "name": "stdout",
     "output_type": "stream",
     "text": [
      "10100000\n"
     ]
    }
   ],
   "source": [
    "# Instaed of this...\n",
    "\n",
    "num1 = 10000000\n",
    "num2 = 100000\n",
    "\n",
    "total = num1 + num2\n",
    "\n",
    "print(total)\n"
   ]
  },
  {
   "cell_type": "code",
   "execution_count": 4,
   "metadata": {},
   "outputs": [
    {
     "name": "stdout",
     "output_type": "stream",
     "text": [
      "10,100,000\n"
     ]
    }
   ],
   "source": [
    "# Try This...\n",
    "\n",
    "# Note: Python ignores underscores so we can use them \n",
    "# as a way to improve readability\n",
    "# without affecting any of the calculations!\n",
    "\n",
    "num1 = 10_000_000\n",
    "num2 = 100_000\n",
    "\n",
    "total = num1 + num2\n",
    "\n",
    "# Also note how we add commas in the print statemnet\n",
    "print(f'{total:,}')"
   ]
  },
  {
   "cell_type": "raw",
   "metadata": {},
   "source": [
    "Tip 3: Context Manager (anytime you are managing resources)"
   ]
  },
  {
   "cell_type": "code",
   "execution_count": null,
   "metadata": {},
   "outputs": [],
   "source": [
    "# Instead of this...\n",
    "\n",
    "f = open('test.txt', 'r')\n",
    "\n",
    "file_contents = f.read()\n",
    "\n",
    "f.close()\n",
    "\n",
    "words = file_contents.split(' ')\n",
    "word_count = len(words)\n",
    "print(word_count)"
   ]
  },
  {
   "cell_type": "code",
   "execution_count": null,
   "metadata": {},
   "outputs": [],
   "source": [
    "with open('test.txt', 'r') as f:\n",
    "    file_contents = f.read()\n",
    "    \n",
    "words = file_contents.split(' ')\n",
    "word_count = len(words)\n",
    "print(word_count)"
   ]
  },
  {
   "cell_type": "raw",
   "metadata": {},
   "source": [
    "Tip 4: Enumerate Function (trying to keep a count of output list)"
   ]
  },
  {
   "cell_type": "code",
   "execution_count": 30,
   "metadata": {},
   "outputs": [],
   "source": [
    "names = ['Bob', 'Ted', 'Carol', 'Alice']"
   ]
  },
  {
   "cell_type": "code",
   "execution_count": 20,
   "metadata": {},
   "outputs": [
    {
     "name": "stdout",
     "output_type": "stream",
     "text": [
      "0 Bob\n",
      "1 Ted\n",
      "2 Carol\n",
      "3 Alice\n"
     ]
    }
   ],
   "source": [
    "# Instead of this...\n",
    "\n",
    "index = 0\n",
    "for name in names:\n",
    "    print (index, name)\n",
    "    index += 1"
   ]
  },
  {
   "cell_type": "code",
   "execution_count": 21,
   "metadata": {},
   "outputs": [
    {
     "name": "stdout",
     "output_type": "stream",
     "text": [
      "0 Bob\n",
      "1 Ted\n",
      "2 Carol\n",
      "3 Alice\n"
     ]
    }
   ],
   "source": [
    "# Do this...\n",
    "\n",
    "for index, name in enumerate(names):\n",
    "    print(index, name)"
   ]
  },
  {
   "cell_type": "code",
   "execution_count": 22,
   "metadata": {},
   "outputs": [
    {
     "name": "stdout",
     "output_type": "stream",
     "text": [
      "1 Bob\n",
      "2 Ted\n",
      "3 Carol\n",
      "4 Alice\n"
     ]
    }
   ],
   "source": [
    "# or this if you want the list to start at 1...\n",
    "\n",
    "for index, name in enumerate(names, start=1):\n",
    "    print(index, name)"
   ]
  },
  {
   "cell_type": "raw",
   "metadata": {},
   "source": [
    "Tip 5: Looping Over Two Lists"
   ]
  },
  {
   "cell_type": "code",
   "execution_count": 31,
   "metadata": {},
   "outputs": [
    {
     "name": "stdout",
     "output_type": "stream",
     "text": [
      "Bob is actually a Cop\n",
      "Ted is actually a Teacher\n",
      "Carol is actually a Lawyer\n",
      "Alice is actually a Chef\n"
     ]
    }
   ],
   "source": [
    "# Instead of this...\n",
    "\n",
    "jobs = ['Cop', 'Teacher', 'Lawyer', 'Chef']\n",
    "\n",
    "for index, name in enumerate(names):\n",
    "    job = jobs[index]\n",
    "    print(f'{name} is actually a {job}')"
   ]
  },
  {
   "cell_type": "code",
   "execution_count": 36,
   "metadata": {},
   "outputs": [
    {
     "name": "stdout",
     "output_type": "stream",
     "text": [
      "Bob is actually a Cop who likes to Run\n",
      "Ted is actually a Teacher who likes to Fish\n",
      "Carol is actually a Lawyer who likes to Golf\n",
      "Alice is actually a Chef who likes to Read\n"
     ]
    }
   ],
   "source": [
    "# or this... (Using Zip)\n",
    "\n",
    "hobbies = ['Run', 'Fish', 'Golf', 'Read']\n",
    "\n",
    "for name, job, hobby in zip(names, jobs, hobbies):\n",
    "    print(f'{name} is actually a {job} who likes to {hobby}')"
   ]
  },
  {
   "cell_type": "code",
   "execution_count": 37,
   "metadata": {},
   "outputs": [
    {
     "name": "stdout",
     "output_type": "stream",
     "text": [
      "('Bob', 'Cop', 'Run')\n",
      "('Ted', 'Teacher', 'Fish')\n",
      "('Carol', 'Lawyer', 'Golf')\n",
      "('Alice', 'Chef', 'Read')\n"
     ]
    }
   ],
   "source": [
    "# Or if you want to make a quick output list use 'value'...\n",
    "\n",
    "for value in zip(names, jobs, hobbies):\n",
    "    print(value)"
   ]
  },
  {
   "cell_type": "raw",
   "metadata": {},
   "source": [
    "Tip 6: More on Unpacking Values"
   ]
  },
  {
   "cell_type": "code",
   "execution_count": 54,
   "metadata": {},
   "outputs": [
    {
     "name": "stdout",
     "output_type": "stream",
     "text": [
      "1\n",
      "2\n"
     ]
    }
   ],
   "source": [
    "# Using underscore as variable name to ignore...\n",
    "\n",
    "a, b, _ = (1, 2, 3)\n",
    "\n",
    "print(a)\n",
    "print(b)"
   ]
  },
  {
   "cell_type": "code",
   "execution_count": 57,
   "metadata": {},
   "outputs": [
    {
     "name": "stdout",
     "output_type": "stream",
     "text": [
      "1\n",
      "[2, 3, 4, 5]\n",
      "6\n"
     ]
    }
   ],
   "source": [
    "a, *b, c = (1, 2, 3, 4, 5, 6)\n",
    "\n",
    "print(a)\n",
    "print(b)\n",
    "print(c)"
   ]
  },
  {
   "cell_type": "code",
   "execution_count": 65,
   "metadata": {},
   "outputs": [
    {
     "name": "stdout",
     "output_type": "stream",
     "text": [
      "1\n",
      "6\n",
      "7\n"
     ]
    }
   ],
   "source": [
    "# Example of how to select the first and last two varaibles from a list...\n",
    "\n",
    "a, *_, c, d = (1, 2, 3, 4, 5, 6, 7)\n",
    "\n",
    "print(a)\n",
    "#print(b)\n",
    "print(c)\n",
    "print(d)"
   ]
  },
  {
   "cell_type": "raw",
   "metadata": {},
   "source": [
    "Tip 7: Working With Clases and Attributes"
   ]
  },
  {
   "cell_type": "code",
   "execution_count": 79,
   "metadata": {},
   "outputs": [
    {
     "name": "stdout",
     "output_type": "stream",
     "text": [
      "Travis\n",
      "Parton\n"
     ]
    }
   ],
   "source": [
    "# Instead of this...\n",
    "\n",
    "class Person():\n",
    "    pass\n",
    "\n",
    "person = Person()\n",
    "\n",
    "person.first = \"Travis\"\n",
    "person.last = \"Parton\"\n",
    "\n",
    "print(person.first)\n",
    "print(person.last)"
   ]
  },
  {
   "cell_type": "code",
   "execution_count": 75,
   "metadata": {},
   "outputs": [
    {
     "name": "stdout",
     "output_type": "stream",
     "text": [
      "Travis\n"
     ]
    }
   ],
   "source": [
    "# Try this...\n",
    "\n",
    "class Person():\n",
    "    pass\n",
    "\n",
    "person = Person()\n",
    "\n",
    "first_key = 'first'\n",
    "first_val = 'Travis'\n",
    "\n",
    "setattr(person, first_key, first_val)\n",
    "\n",
    "print(person.first)"
   ]
  },
  {
   "cell_type": "code",
   "execution_count": 87,
   "metadata": {},
   "outputs": [
    {
     "name": "stdout",
     "output_type": "stream",
     "text": [
      "Travis\n"
     ]
    }
   ],
   "source": [
    "# Or this using getattr...\n",
    "\n",
    "class Person():\n",
    "    pass\n",
    "\n",
    "person = Person()\n",
    "\n",
    "first_key = 'first'\n",
    "first_val = 'Travis'\n",
    "\n",
    "setattr(person, first_key, first_val)\n",
    "\n",
    "first = getattr(person, first_key)\n",
    "\n",
    "print(first)"
   ]
  },
  {
   "cell_type": "code",
   "execution_count": 84,
   "metadata": {},
   "outputs": [
    {
     "name": "stdout",
     "output_type": "stream",
     "text": [
      "Travis Parton\n"
     ]
    }
   ],
   "source": [
    "# And for more advanced users...\n",
    "\n",
    "class Person():\n",
    "    pass\n",
    "\n",
    "person_info = {'first': 'Travis', 'last': 'Parton'}\n",
    "\n",
    "for key, value in person_info.items():\n",
    "    setattr(person, key, value)\n",
    "\n",
    "print(person.first, person.last)\n"
   ]
  },
  {
   "cell_type": "code",
   "execution_count": 86,
   "metadata": {},
   "outputs": [
    {
     "name": "stdout",
     "output_type": "stream",
     "text": [
      "Travis\n",
      "Parton\n"
     ]
    }
   ],
   "source": [
    "# Another way to output the results...\n",
    "\n",
    "for key in person_info.keys():\n",
    "    print(getattr(person, key))"
   ]
  },
  {
   "cell_type": "raw",
   "metadata": {},
   "source": [
    "Tip 8: Keeping Information Secret"
   ]
  },
  {
   "cell_type": "code",
   "execution_count": 90,
   "metadata": {},
   "outputs": [
    {
     "name": "stdout",
     "output_type": "stream",
     "text": [
      "Username: Trevor\n",
      "Password: Kent\n",
      "Logging In...\n"
     ]
    }
   ],
   "source": [
    "# Instead of this...\n",
    "\n",
    "username = input('Username: ')\n",
    "password = input('Password: ')\n",
    "\n",
    "print('Logging In...')"
   ]
  },
  {
   "cell_type": "code",
   "execution_count": 94,
   "metadata": {},
   "outputs": [
    {
     "name": "stdout",
     "output_type": "stream",
     "text": [
      "Username: Trevor\n",
      "Password: ········\n",
      "Logging In...\n"
     ]
    }
   ],
   "source": [
    "# Use this...\n",
    "\n",
    "from getpass import getpass\n",
    "\n",
    "username = input('Username: ')\n",
    "password = getpass('Password: ')\n",
    "\n",
    "print('Logging In...')"
   ]
  },
  {
   "cell_type": "raw",
   "metadata": {},
   "source": [
    "Tip 9: Using -m in Command line runs a Module that can be further specified"
   ]
  },
  {
   "cell_type": "code",
   "execution_count": 103,
   "metadata": {},
   "outputs": [
    {
     "name": "stdout",
     "output_type": "stream",
     "text": [
      "End of Tips\n"
     ]
    }
   ],
   "source": [
    "print('End of Tips')"
   ]
  }
 ],
 "metadata": {
  "kernelspec": {
   "display_name": "Python 3",
   "language": "python",
   "name": "python3"
  },
  "language_info": {
   "codemirror_mode": {
    "name": "ipython",
    "version": 3
   },
   "file_extension": ".py",
   "mimetype": "text/x-python",
   "name": "python",
   "nbconvert_exporter": "python",
   "pygments_lexer": "ipython3",
   "version": "3.6.7"
  }
 },
 "nbformat": 4,
 "nbformat_minor": 2
}
