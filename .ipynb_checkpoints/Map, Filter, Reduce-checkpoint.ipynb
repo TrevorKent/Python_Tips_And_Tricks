{
 "cells": [
  {
   "cell_type": "code",
   "execution_count": 24,
   "metadata": {},
   "outputs": [],
   "source": [
    "# Resources\n",
    "import math\n",
    "import statistics\n",
    "from functools import reduce\n",
    "\n",
    "# Data\n",
    "radii = [2, 5, 2.5, 10]\n",
    "temps = [(\"Berlin\", 29), (\"Chairo\", 36), (\"LA\", 36), (\"Tokyo\", 27)]\n",
    "data = [1.3, 2.7, 0.8, 4.1, 4.3, -0.1]\n",
    "countries = [\"Spain\", \"USA\", \"\", \"England\", \"\"]"
   ]
  },
  {
   "cell_type": "code",
   "execution_count": 25,
   "metadata": {},
   "outputs": [
    {
     "data": {
      "text/plain": [
       "[12.566370614359172, 78.53981633974483, 19.634954084936208, 314.1592653589793]"
      ]
     },
     "execution_count": 25,
     "metadata": {},
     "output_type": "execute_result"
    }
   ],
   "source": [
    "# Method 1: Direct Method\n",
    "\n",
    "def area(r):\n",
    "    \"\"\"Area of a circle with radius'r'.\"\"\"\n",
    "    return math.pi * (r**2)\n",
    "\n",
    "areas = []\n",
    "for r in radii:\n",
    "    a = area(r)\n",
    "    areas.append(a)\n",
    "\n",
    "areas"
   ]
  },
  {
   "cell_type": "code",
   "execution_count": 26,
   "metadata": {},
   "outputs": [
    {
     "data": {
      "text/plain": [
       "[12.566370614359172, 78.53981633974483, 19.634954084936208, 314.1592653589793]"
      ]
     },
     "execution_count": 26,
     "metadata": {},
     "output_type": "execute_result"
    }
   ],
   "source": [
    "# Method 2: \"Map\" Method\n",
    "# Map turns into an object, list displays all values related to that object\n",
    "\n",
    "list(map(area, radii))"
   ]
  },
  {
   "cell_type": "code",
   "execution_count": 27,
   "metadata": {},
   "outputs": [
    {
     "data": {
      "text/plain": [
       "[('Berlin', 84.2), ('Chairo', 96.8), ('LA', 96.8), ('Tokyo', 80.6)]"
      ]
     },
     "execution_count": 27,
     "metadata": {},
     "output_type": "execute_result"
    }
   ],
   "source": [
    "# Celcius to F\n",
    "\n",
    "c_to_f = lambda data: (data[0], (9/5)*data[1] + 32)\n",
    "\n",
    "list(map(c_to_f, temps))"
   ]
  },
  {
   "cell_type": "code",
   "execution_count": 28,
   "metadata": {},
   "outputs": [
    {
     "name": "stdout",
     "output_type": "stream",
     "text": [
      "2.183333333333333\n"
     ]
    },
    {
     "data": {
      "text/plain": [
       "[2.7, 4.1, 4.3]"
      ]
     },
     "execution_count": 28,
     "metadata": {},
     "output_type": "execute_result"
    }
   ],
   "source": [
    "# Filter Method\n",
    "\n",
    "avg = statistics.mean(data)\n",
    "print(avg)\n",
    "\n",
    "list(filter(lambda x: x > avg, data))"
   ]
  },
  {
   "cell_type": "code",
   "execution_count": 29,
   "metadata": {},
   "outputs": [
    {
     "data": {
      "text/plain": [
       "['Spain', 'USA', 'England']"
      ]
     },
     "execution_count": 29,
     "metadata": {},
     "output_type": "execute_result"
    }
   ],
   "source": [
    "# Remove missing data\n",
    "\n",
    "list(filter(None, countries))"
   ]
  },
  {
   "cell_type": "code",
   "execution_count": 30,
   "metadata": {},
   "outputs": [
    {
     "data": {
      "text/plain": [
       "-4.9505040000000005"
      ]
     },
     "execution_count": 30,
     "metadata": {},
     "output_type": "execute_result"
    }
   ],
   "source": [
    "# Reduce Function\n",
    "\n",
    "multiplier = lambda x, y: x*y\n",
    "reduce(multiplier, data)"
   ]
  }
 ],
 "metadata": {
  "kernelspec": {
   "display_name": "Python 3",
   "language": "python",
   "name": "python3"
  },
  "language_info": {
   "codemirror_mode": {
    "name": "ipython",
    "version": 3
   },
   "file_extension": ".py",
   "mimetype": "text/x-python",
   "name": "python",
   "nbconvert_exporter": "python",
   "pygments_lexer": "ipython3",
   "version": "3.6.7"
  }
 },
 "nbformat": 4,
 "nbformat_minor": 2
}
