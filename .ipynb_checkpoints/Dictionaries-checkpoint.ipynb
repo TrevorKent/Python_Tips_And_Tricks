{
 "cells": [
  {
   "cell_type": "raw",
   "metadata": {},
   "source": [
    "Dictionaries (map)"
   ]
  },
  {
   "cell_type": "code",
   "execution_count": 5,
   "metadata": {},
   "outputs": [
    {
     "data": {
      "text/plain": [
       "{'user_id': 124,\n",
       " 'type': 'Stormtrooper',\n",
       " 'datetime': '20230215T124231Z',\n",
       " 'location': (44.590533, 104.71556)}"
      ]
     },
     "execution_count": 5,
     "metadata": {},
     "output_type": "execute_result"
    }
   ],
   "source": [
    "# my post\n",
    "\n",
    "post = {\"user_id\": 124, \"type\": \"Stormtrooper\", \"datetime\": \"20230215T124231Z\", \"location\": (44.590533, 104.71556)}\n",
    "post"
   ]
  },
  {
   "cell_type": "code",
   "execution_count": 6,
   "metadata": {},
   "outputs": [
    {
     "data": {
      "text/plain": [
       "dict"
      ]
     },
     "execution_count": 6,
     "metadata": {},
     "output_type": "execute_result"
    }
   ],
   "source": [
    "type(post)"
   ]
  },
  {
   "cell_type": "code",
   "execution_count": 8,
   "metadata": {},
   "outputs": [
    {
     "data": {
      "text/plain": [
       "{'message': 'I love Python!', 'language': 'English'}"
      ]
     },
     "execution_count": 8,
     "metadata": {},
     "output_type": "execute_result"
    }
   ],
   "source": [
    "post2 = dict(message=\"I love Python!\", language=\"English\")\n",
    "post2"
   ]
  },
  {
   "cell_type": "code",
   "execution_count": 9,
   "metadata": {},
   "outputs": [
    {
     "data": {
      "text/plain": [
       "{'message': 'I love Python!',\n",
       " 'language': 'English',\n",
       " 'user_id': 289,\n",
       " 'state': 'California'}"
      ]
     },
     "execution_count": 9,
     "metadata": {},
     "output_type": "execute_result"
    }
   ],
   "source": [
    "post2[\"user_id\"] = 289\n",
    "post2[\"state\"] = \"California\"\n",
    "post2"
   ]
  },
  {
   "cell_type": "code",
   "execution_count": 12,
   "metadata": {},
   "outputs": [
    {
     "name": "stdout",
     "output_type": "stream",
     "text": [
      "Stormtrooper\n",
      "California\n"
     ]
    }
   ],
   "source": [
    "print(post['type'])\n",
    "print(post2['state'])"
   ]
  },
  {
   "cell_type": "code",
   "execution_count": 16,
   "metadata": {},
   "outputs": [
    {
     "name": "stdout",
     "output_type": "stream",
     "text": [
      "None\n"
     ]
    }
   ],
   "source": [
    "# Using the get method\n",
    "loc = post2.get('type', None)\n",
    "print(loc)"
   ]
  },
  {
   "cell_type": "code",
   "execution_count": 17,
   "metadata": {},
   "outputs": [
    {
     "name": "stdout",
     "output_type": "stream",
     "text": [
      "user_id = 124\n",
      "type = Stormtrooper\n",
      "datetime = 20230215T124231Z\n",
      "location = (44.590533, 104.71556)\n"
     ]
    }
   ],
   "source": [
    "for key in post.keys():\n",
    "    value = post[key]\n",
    "    print(key, \"=\", value)"
   ]
  },
  {
   "cell_type": "code",
   "execution_count": 18,
   "metadata": {},
   "outputs": [
    {
     "name": "stdout",
     "output_type": "stream",
     "text": [
      "user_id = 124\n",
      "type = Stormtrooper\n",
      "datetime = 20230215T124231Z\n",
      "location = (44.590533, 104.71556)\n"
     ]
    }
   ],
   "source": [
    "for key, value in post.items():\n",
    "    print(key, \"=\", value)"
   ]
  }
 ],
 "metadata": {
  "kernelspec": {
   "display_name": "Python 3",
   "language": "python",
   "name": "python3"
  },
  "language_info": {
   "codemirror_mode": {
    "name": "ipython",
    "version": 3
   },
   "file_extension": ".py",
   "mimetype": "text/x-python",
   "name": "python",
   "nbconvert_exporter": "python",
   "pygments_lexer": "ipython3",
   "version": "3.6.7"
  }
 },
 "nbformat": 4,
 "nbformat_minor": 2
}
